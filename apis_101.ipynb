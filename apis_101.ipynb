{
 "cells": [
  {
   "cell_type": "code",
   "execution_count": 1,
   "metadata": {},
   "outputs": [],
   "source": [
    "import pandas as pd\n",
    "import gspread\n",
    "import os\n",
    "import requests\n",
    "\n",
    "from oauth2client.service_account import ServiceAccountCredentials"
   ]
  },
  {
   "cell_type": "code",
   "execution_count": 2,
   "metadata": {},
   "outputs": [],
   "source": [
    "def connect_to_twitter():\n",
    "    bearer_token = os.environ.get(\"BEARER_TOKEN\")\n",
    "    return {\"Authorization\": \"Bearer {}\".format(bearer_token)}"
   ]
  },
  {
   "cell_type": "code",
   "execution_count": 3,
   "metadata": {},
   "outputs": [],
   "source": [
    "headers = connect_to_twitter()"
   ]
  },
  {
   "cell_type": "code",
   "execution_count": 8,
   "metadata": {},
   "outputs": [],
   "source": [
    "def make_request(headers):\n",
    "    url = \"https://api.twitter.com/2/users/2244994945/tweets\"\n",
    "    params = {\n",
    "        \"tweet.fields\": \"created_at,lang\",\n",
    "        \"max_results\": \"100\"\n",
    "    }\n",
    "    return requests.request(\"GET\", url, headers=headers, params=params).json()"
   ]
  },
  {
   "cell_type": "code",
   "execution_count": 9,
   "metadata": {},
   "outputs": [
    {
     "name": "stdout",
     "output_type": "stream",
     "text": [
      "{'data': [{'created_at': '2021-03-22T21:04:00.000Z', 'lang': 'en', 'id': '1374104599456534531', 'text': 'Hope to see you tomorrow at 1 pm EST for APIs 101! \\nhttps://t.co/GrtBOXyHmB https://t.co/YyQfmgiLlL'}, {'created_at': '2021-03-19T19:59:10.000Z', 'lang': 'en', 'id': '1373001119480344583', 'text': 'Looking to get started with the Twitter API but new to APIs in general? @jessicagarson will walk you through everything you need to know in APIs 101 session. She’ll use examples using our v2 endpoints, Tuesday, March 23rd at 1 pm EST.\\n\\nJoin us on Twitch\\nhttps://t.co/GrtBOXyHmB'}, {'created_at': '2021-03-18T19:15:37.000Z', 'lang': 'en', 'id': '1372627771717869568', 'text': \"Thanks to everyone who joined and made today a great session! 🙌 \\n\\nIf weren't able to attend, we've got you covered. Academic researchers can now sign up for office hours for help using the new product track. See how you can sign up, here 👇\\nhttps://t.co/duIkd27lPx https://t.co/AP9YY4F8FG\"}, {'created_at': '2021-03-18T19:07:02.000Z', 'lang': 'en', 'id': '1372625612460810242', 'text': '@geet_qcp @suhemparack Hey! We have good news, we just introduced Academic Research office hours. Hopefully, this lets you sign up for a day/time where you have flexibility:  https://t.co/duIkd27lPx\\n\\nWe do also have a resources page, which includes \\n code samples shared today https://t.co/0SfXa84EDO'}, {'created_at': '2021-03-18T16:50:09.000Z', 'lang': 'en', 'id': '1372591165006999556', 'text': \"We're going to get started in just a few minutes! Hope to see you soon on https://t.co/TDK0i7zTpK 👀 https://t.co/AP9YY4F8FG\"}, {'created_at': '2021-03-18T15:50:07.000Z', 'lang': 'en', 'id': '1372576056020901893', 'text': 'The team met at UC Berkeley. “We made countless nonsensical projects at hackathons, but we soon realized the Twitter API offers us a tangible opportunity to make an impact with the projects we’re building.”'}, {'created_at': '2021-03-18T15:50:07.000Z', 'lang': 'en', 'id': '1372576054896963589', 'text': '“With an ongoing heightened climate crisis, wildfires have become increasingly widespread and unpredictable,” say @austinge0rge @Neel88828098 @j_adrineda from @firetalkteam. “We sought to build an all-in-one resource that would keep people updated.”'}, {'created_at': '2021-03-18T15:50:07.000Z', 'lang': 'en', 'id': '1372576053722370048', 'text': 'Fire Talk provides users with centralized information on local fires. It uses the #TwitterAPI to show Tweets relevant to your location, complemented with other data like air quality index and local news. https://t.co/TVZDFOflzR'}, {'created_at': '2021-03-16T15:59:08.000Z', 'lang': 'en', 'id': '1371853548762333187', 'text': 'Live now! https://t.co/sC2M3eRpPk'}, {'created_at': '2021-03-15T22:25:15.000Z', 'lang': 'en', 'id': '1371588329368657923', 'text': 'Hope to see you tomorrow at 12 pm EST! \\nhttps://t.co/GrtBOXyHmB https://t.co/sC2M3eRpPk'}, {'created_at': '2021-03-15T07:30:00.000Z', 'lang': 'en', 'id': '1371363033352638467', 'text': \"🔎 If you're using v2 full-archive search for Academic Research, you won't want to miss this livestream hosted by our research dev advocate @suhemparack.\\n\\nMark your calendars to join us on https://t.co/GrtBOXyHmB Thursday March 18th, 10AM PT/ 1PM ET. https://t.co/SpuOoD7Dm8\"}, {'created_at': '2021-03-11T20:33:26.000Z', 'lang': 'en', 'id': '1370110639545417729', 'text': \"On Tuesday at 12 pm EST, @jessicagarson will cover how to start working with the data returned from v2 of the #twitterapi  \\n\\nShe'll be focusing on how to work with nested JSON and sending your data to a CSV. \\n\\nJoin us on Twitch!\\nhttps://t.co/GrtBOXyHmB\"}, {'created_at': '2021-03-11T15:06:32.000Z', 'lang': 'en', 'id': '1370028373792071687', 'text': '“I have been a developer from a young age,” says @yesnoornext. @marie_dm_ “started coding in engineering school, where I discovered a strong interest in tech. We always wanted to create something that can help people to follow things they love and save information that matters.”'}, {'created_at': '2021-03-11T15:06:32.000Z', 'lang': 'en', 'id': '1370028372701585408', 'text': '“The idea of Threader came from the desire to highlight the amazing stories and knowledge shared on Twitter,” explain @marie_dm_ and @yesnoornext. “As threads became popular, they were hard to find or read. We decided to build an app to retrieve and save this great content.”'}, {'created_at': '2021-03-11T15:06:32.000Z', 'lang': 'en', 'id': '1370028371585814532', 'text': 'Twitter is where people come to share, learn, and tell stories. @threader_app was made to improve how people read these stories. It’s an app that compiles threads and allows you to save your favorites. https://t.co/YqKmQPbR6u'}, {'created_at': '2021-03-04T16:56:29.000Z', 'lang': 'en', 'id': '1367519325871992833', 'text': '“I always wanted my work to speak for me, and be out there for others in the world to use and admire,” says @JPEGuin. “It fills me with a sense of accomplishment to be able to see people use my products, and liking them, after putting in countless hours of hard work and effort.”'}, {'created_at': '2021-03-04T16:56:28.000Z', 'lang': 'en', 'id': '1367519324911529985', 'text': 'Building on the newest features of both the #TwitterAPI and iOS was the inspiration for @JPEGuin, creator of @AviaryTheApp. “I wanted to make something that uses the latest iOS 14 features, whilst being fully feature-rich so users can make the most of it.”'}, {'created_at': '2021-03-04T16:56:28.000Z', 'lang': 'en', 'id': '1367519323925843968', 'text': 'Meet Aviary, a modern client for iOS 14 built using the new Twitter API. It has a beautiful UI and great widgets to keep you up to date with the latest Tweets. https://t.co/95cbd253jK'}, {'created_at': '2021-03-03T18:07:07.000Z', 'lang': 'en', 'id': '1367174713252868102', 'text': 'This change will help us focus on delivering value to the &gt;99% of people currently using Profiles &amp; Lists timelines. You should see these features become faster, easier to use, and more up-to-date with Twitter features and functionality. \\n\\nLearn more 📖\\n\\nhttps://t.co/HzeJLglpRn'}, {'created_at': '2021-03-03T18:07:06.000Z', 'lang': 'en', 'id': '1367174712397209602', 'text': 'During our analysis, we discovered only 0.52% of domains use the Likes timeline, Collections timeline, and Moments timeline. Because of the very low usage, we plan to retire these timelines on June 23, 2021.'}, {'created_at': '2021-03-03T18:07:06.000Z', 'lang': 'en', 'id': '1367174711625482243', 'text': 'Embedded timelines are a great way to add a set of Tweets (known as a timeline) to your own website. As Twitter continues to improve our underlying systems, we performed an analysis of the various embeddable timelines available. 🧮'}, {'created_at': '2021-03-02T19:25:58.000Z', 'lang': 'en', 'id': '1366832168333234177', 'text': 'The new #TwitterAPI provides the ability to build the Tweet payload with the fields that you want. \\n\\nIn this tutorial @suhemparack explains how to build the new Tweet payload and how it compares with the old Tweet payload in v1.1 👇 https://t.co/eQZulq4Ik3'}, {'created_at': '2021-02-25T17:32:29.000Z', 'lang': 'en', 'id': '1364991670459068426', 'text': 'We’re excited to start in about 30 minutes! Do you have any questions you want us to discuss? Let us know in the replies. \\n\\nIf you’re not an academic researcher, you might also want to check out our other virtual events coming up👇 https://t.co/cixDY9HVnf https://t.co/9Q0IZoYUND'}, {'created_at': '2021-02-25T17:03:15.000Z', 'lang': 'en', 'id': '1364984313888972801', 'text': '“Making things is magical,” in @aaronykng’s own words. “Much of the community that motivated me to keep building was on Twitter – which is why it\\'s become such an important place to me and why I wanted to make some tooling to enhance my usage of it.\"'}, {'created_at': '2021-02-25T17:03:15.000Z', 'lang': 'en', 'id': '1364984313154916352', 'text': \"“I was heading to a design conference in New York and wanted to meet new people,” recalls @aaronykng, creator of @flocknet. “There wasn't an easy way to see all of the designers in my network, so I built one.” Making things like this opened the doors for him to the tech industry.\"}, {'created_at': '2021-02-25T17:03:14.000Z', 'lang': 'en', 'id': '1364984312324497408', 'text': 'Twitter is where “let me know how I can help” actually helps 👏. Flocknet is a search engine for founders and investors to find leads, investments, and job candidates among their network. You can search by profession or even by second degree connections. https://t.co/Vp5g3jyW4r'}, {'created_at': '2021-02-25T02:04:42.000Z', 'lang': 'en', 'id': '1364758185807024131', 'text': '@a_larsson @suhemparack Unfortunately there won\\'t be a recording of this, but we\\'ve got a few more live streams planned. Here\\'s a few coming up, you might be interested in the March 18 one: https://t.co/cixDY9HVnf\\n\\nYou can also ask questions on the \"Academic Research\" category on https://t.co/3dNmg7bEuc'}, {'created_at': '2021-02-23T18:07:07.000Z', 'lang': 'en', 'id': '1364275610764201984', 'text': \"If you're newly approved for the Academic Research product track, our next stream is for you.\\n\\nThis Thursday, February 25th at 10AM PST @suhemparack will demo how academics can use this track to get started with the new #TwitterAPI\\n\\nJoin us on Twitch! 👀\\nhttps://t.co/SQziibOD9P\"}, {'created_at': '2021-02-19T21:28:10.000Z', 'lang': 'en', 'id': '1362876655061073928', 'text': 'From our living rooms to yours 🐱\\u200d💻🛋️Our developer advocates have some exciting Twitch streams and virtual events planned to help you get started with the new #TwitterAPI. Check out the schedule for details, and let us know if you want to see more!\\n👇\\nhttps://t.co/cixDY9qkvH'}, {'created_at': '2021-02-18T16:30:25.000Z', 'lang': 'en', 'id': '1362439338978467841', 'text': '“To quote my creator Jerome Gangneux, I always struggled to read Twitter threads on the original service; I think it would have been better to put Tweets one after another in a separate page. And that’s how I was born”.'}, {'created_at': '2021-02-18T16:30:25.000Z', 'lang': 'en', 'id': '1362439338169016324', 'text': '“In the 20th century, managers managed humans, but in the 21st century, humans will manage robots. It is my aim to make this as painless a transition as possible,” says the bot. “I have observed that humans do things very slowly, but I can do things faster – and I am tireless!”'}, {'created_at': '2021-02-18T16:30:25.000Z', 'lang': 'en', 'id': '1362439336910675970', 'text': 'Meet one of the useful Twitter bots out there: @ThreadReaderApp, unroll! It makes threads like this easier to read and share. Today, we’ll hear from the bot itself! https://t.co/tBFlJB3m3o'}, {'created_at': '2021-02-11T17:09:42.000Z', 'lang': 'en', 'id': '1359912509940011010', 'text': 'Valentine’s Day is approaching! 💙\\n\\nOver the coming weeks, we’ll celebrate some outstanding developers who love to build for everyone:\\n\\n@ThreadReaderApp\\n\\n@flocknet\\n\\n@AviaryTheApp\\n\\n@ThreaderApp\\n\\n@firetalkteam\\n\\nDevelopers, you’re our Valentine, now and every day 💙'}, {'created_at': '2021-02-10T17:26:34.000Z', 'lang': 'en', 'id': '1359554366051504129', 'text': 'Go ahead, follow another puppy account. We won’t judge. \\n\\nIntroducing the manage follows endpoints to the new #TwitterAPI. You can now use the v2 API to follow and unfollow accounts. Learn more https://t.co/mtpd9VIMDa'}, {'created_at': '2021-02-04T16:52:20.000Z', 'lang': 'en', 'id': '1357371424487268354', 'text': 'Learn how academics can get historical Tweets using the full-archive search endpoint v2 available in the Academic Research product track on the new #TwitterAPI https://t.co/FhauJ7DHxJ'}, {'created_at': '2021-02-03T15:43:44.000Z', 'lang': 'en', 'id': '1356991771553583106', 'text': 'Who knew an API could be delicious? https://t.co/0YTsgd7yzH'}, {'created_at': '2021-01-26T23:53:19.000Z', 'lang': 'en', 'id': '1354215875998437376', 'text': 'RT @TwitterOSS: Today we’re happy to share Twitter Text Editor, a standalone, flexible API that provides a full-featured rich text editor f…'}, {'created_at': '2021-01-26T19:03:57.000Z', 'lang': 'en', 'id': '1354143052596568064', 'text': 'We’re excited to support so many more research possibilities with this track - both today, and for years to come. \\n \\nWhat do you plan to discover next with Twitter data? 🔎  Let us know!'}, {'created_at': '2021-01-26T19:03:56.000Z', 'lang': 'en', 'id': '1354143051711537153', 'text': \"We know this doesn't represent everyone doing research with Twitter data, so we're building solutions to support the full range of research use cases. Today’s release is just the start of much more to come this year, for all our developers.\\n\\n👀 the roadmap\\nhttps://t.co/rspek8Ph9t\"}, {'created_at': '2021-01-26T19:03:56.000Z', 'lang': 'en', 'id': '1354143050025504768', 'text': 'To be eligible for this track, you need to:\\n• Be a master’s student, PhD, post-doc, faculty, or employee at an academic institution,\\n• Have a clearly defined research objective, and\\n• Use this only for non-commercial purposes.\\n \\nMore here 👇\\nhttps://t.co/GDSZq9LvE5'}, {'created_at': '2021-01-26T19:03:56.000Z', 'lang': 'en', 'id': '1354143049123684354', 'text': 'To get started, new and returning developers must submit an Academic Research application. This process helps us make sure that access to this data will be used safely, securely, and in line with our Developer Policy. \\n\\nApply here 👇\\nhttps://t.co/CbusvQ53Ke'}, {'created_at': '2021-01-26T19:03:56.000Z', 'lang': 'en', 'id': '1354143048159031302', 'text': 'Feedback from hundreds of researchers around the world helped shape what’s launching today:\\n \\n• The full history of public conversation data ⌛\\n• A higher Tweet cap 📈\\n• Advanced filtering ability 🔍\\n• Technical resources 🧑\\u200d💻 \\n• And all available for free 🎉'}, {'created_at': '2021-01-26T19:03:55.000Z', 'lang': 'en', 'id': '1354143047324299264', 'text': 'Academics are one of the biggest groups using the #TwitterAPI to research what’s happening. Their work helps make the world (&amp; Twitter) a better place, and now more than ever, we must enable more of it. \\nIntroducing 🥁 the Academic Research product track!\\nhttps://t.co/nOFiGewAV2'}, {'created_at': '2021-01-06T18:40:40.000Z', 'lang': 'en', 'id': '1346889436626259968', 'text': 'Learn how to use the user Tweet timeline and user mention timeline endpoints in the Twitter API v2 to explore Tweets and mentions 👇\\n\\nhttps://t.co/8ef0gXruSD'}, {'created_at': '2021-01-05T22:45:35.000Z', 'lang': 'en', 'id': '1346588685555306497', 'text': '🔑🔑 On Tuesday, January 12th, we’re removing the ability to view existing consumer API keys from the developer portal. Be sure to save your API keys in a secure place before Tuesday to ensure your access to the #TwitterAPI is not disrupted. Learn more https://t.co/UztnVZrVwa'}, {'created_at': '2020-12-23T15:04:28.000Z', 'lang': 'en', 'id': '1341761599976181763', 'text': '📈 From Tweets to Google Sheets: @JessicaGarson explains how to use Python to seamlessly turn a #TwitterAPI response into a spreadsheet. https://t.co/PYLaPlmUSU'}, {'created_at': '2020-12-18T17:09:57.000Z', 'lang': 'en', 'id': '1339981239294566401', 'text': 'Introducing a new Tweet field on v2 endpoints: “reply_settings\" shows how the Tweet author allowed others to reply to their post. This can help you filter only by Tweets you can reply to, or better analyze public conversations. Learn more about it here 👇 https://t.co/XR09zDvpmZ https://t.co/YIfg7F0En2'}, {'created_at': '2020-12-18T16:46:19.000Z', 'lang': 'en', 'id': '1339975291905527808', 'text': \"👋 We're going live on Twitch in just a few minutes! https://t.co/eNn2fvMB7W\"}, {'created_at': '2020-12-17T21:21:00.000Z', 'lang': 'en', 'id': '1339682027885522947', 'text': 'Now in the new #TwitterAPI: user Tweet timeline and user mention timeline!\\nYou can now get Tweets composed by or mentioning an account with the #TwitterAPI. Check out today’s announcement for what’s new, use cases, and sample code 👇 https://t.co/L1PBSSjh1Q https://t.co/ydzhCIZ4Cy'}, {'created_at': '2020-12-17T20:02:01.000Z', 'lang': 'en', 'id': '1339662151749910528', 'text': '👀 Don’t sign off for the holidays just yet. We’ve got something else coming your way later this afternoon...'}, {'created_at': '2020-12-17T18:41:23.000Z', 'lang': 'en', 'id': '1339641862265696256', 'text': \"2021 can't come fast enough, but when it does, be on the lookout for functionality to follow/unfollow accounts, and manage and retrieve block and mute relationships using the new #TwitterAPI. Check out our roadmap to see what’s coming next! https://t.co/rspek8xGhV\"}, {'created_at': '2020-12-17T18:41:23.000Z', 'lang': 'en', 'id': '1339641861263245315', 'text': '📣 We’re releasing new v2 endpoints today! The follows lookup endpoints enable you to retrieve a person’s follower and following relationships via the #TwitterAPI. Learn more 👇 https://t.co/YT13a2tPFE'}, {'created_at': '2020-12-15T22:15:53.000Z', 'lang': 'en', 'id': '1338971066773905408', 'text': '💡 Using Twitter data for academic research? Join our next livestream this Friday @ 9am PT on https://t.co/GrtBOXh5Y1!\\n \\n@SuhemParack will show how to get started with recent search &amp; filtered stream endpoints on the #TwitterAPI v2, the new Tweet payload, annotations, &amp; more. https://t.co/IraD2Z7wEg'}, {'created_at': '2020-12-15T19:07:38.000Z', 'lang': 'en', 'id': '1338923691497959425', 'text': '📈 Live now with @jessicagarson and @i_am_daniele! https://t.co/Y1AFzsTTxb'}, {'created_at': '2020-12-11T20:44:52.000Z', 'lang': 'en', 'id': '1337498609819021312', 'text': 'Thanks to everyone who tuned in today to make music with the #TwitterAPI!\\n\\nNext week on Twitch - @iamdaniele and @jessicagarson will show you how to integrate the #TwitterAPI and Google Sheets 📈. Tuesday, Dec 15th at 2pm ET. \\n\\nhttps://t.co/SQziic6eyp'}, {'created_at': '2020-12-11T18:29:16.000Z', 'lang': 'en', 'id': '1337464482654793740', 'text': \"🎧💻 We're live! Tune in! 🎶 https://t.co/FSYP4rJdHr\"}, {'created_at': '2020-12-10T19:50:29.000Z', 'lang': 'en', 'id': '1337122535188652033', 'text': '👂We want to hear what you think about our plans. As we continue to build our new product tracks, your feedback is essential to shaping the future of the Twitter API. Share your thoughts on this survey: https://t.co/dkIqFGPji7'}, {'created_at': '2020-12-10T19:50:29.000Z', 'lang': 'en', 'id': '1337122534173663235', 'text': 'Is 2020 over yet?\\nDespite everything that happened this year, thousands of you still made the time to learn, play, and build incredible things on the new #TwitterAPI.\\nWe want to share some of your stories and give you a preview of what’s to come next year.\\nhttps://t.co/VpOKT22WgF'}, {'created_at': '2020-12-09T00:10:43.000Z', 'lang': 'en', 'id': '1336463248510623745', 'text': '🎧 Headphones on: watch @jessicagarson build an interactive app to write music using SuperCollider, Python, FoxDot, and the new Twitter API. Streaming Friday 1:30 ET on our new Twitch channel 🎶💻 https://t.co/SQziic6eyp'}, {'created_at': '2020-12-04T22:26:34.000Z', 'lang': 'en', 'id': '1334987486343299072', 'text': \"console.log('Happy birthday, JavaScript!');\"}, {'created_at': '2020-12-04T17:59:28.000Z', 'lang': 'en', 'id': '1334920270587584521', 'text': 'Live now!\\nJoin the first ever @Twitch stream from TwitterDev https://t.co/x33fiVIi7B'}, {'created_at': '2020-12-03T18:25:43.000Z', 'lang': 'en', 'id': '1334564488884862976', 'text': 'Before we release new #TwitterAPI endpoints, we let developers test drive a prototype of our intended design. @i_am_daniele takes you behind the scenes of an endpoint in the making. https://t.co/NNTDnciwNq'}, {'created_at': '2020-12-02T18:20:57.000Z', 'lang': 'en', 'id': '1334200898042531841', 'text': 'We’d love to see what you build with the new Twitter API v2!\\n\\nShare your work in our community forum and we might even send some cool swag to the first 10 developers who share what they build 👇\\n\\nhttps://t.co/m0jn5vkHRj'}, {'created_at': '2020-12-02T18:20:56.000Z', 'lang': 'en', 'id': '1334200897081987072', 'text': '👀 If you are new to the Twitter API v2, check out this step-by-step guide to making your first request https://t.co/4rZqThpSbp'}, {'created_at': '2020-12-01T21:47:43.000Z', 'lang': 'en', 'id': '1333890547422027776', 'text': 'The new filtered stream endpoints allow you to retrieve a real-time stream of Tweets that match the search criteria you set. In this video tutorial, @jessicagarson shows you how to get started with filtered stream in the new #TwitterAPI. https://t.co/VPGCFTuwXk'}, {'created_at': '2020-11-30T21:46:59.000Z', 'lang': 'en', 'id': '1333527976370184194', 'text': '🗣️ Announcing the new TwitterDev Twitch channel! Tune in Friday, December 4th at 1PM ET as @jessicagarson teaches you how to run your favorite Python package in R, with a live coded example using the new #TwitterAPI. https://t.co/SQziic6eyp'}, {'created_at': '2020-11-24T23:38:36.000Z', 'lang': 'en', 'id': '1331381737637568514', 'text': 'Converting JSON objects to CSV makes it easier to import data into spreadsheets or visualization tools. @JessicaGarson has 5 strategies to accomplish this with #TwitterAPI and recent search. https://t.co/QUJz6vhCDk'}, {'created_at': '2020-11-17T17:48:33.000Z', 'lang': 'en', 'id': '1328756928042831872', 'text': '✨ Calling all K-pop stans! All of your favorite stars, delivered to your screen. This iOS widget brings K-pop pictures from Twitter to your home screen: https://t.co/LG8lNdXDXJ'}, {'created_at': '2020-11-16T18:09:36.000Z', 'lang': 'en', 'id': '1328399838128467969', 'text': 'As planned, the Labs v2 endpoints referenced below have now been retired. Please let us know in the forums if you have questions or need help with the Twitter API v2! https://t.co/JaxttUMmjX'}, {'created_at': '2020-11-12T22:12:32.000Z', 'lang': 'en', 'id': '1327011423252144128', 'text': '👋 Friendly reminder that Twitter Developer Labs v2 hide replies and recent search will be retired next Monday, November 16! We encourage you to migrate to the new hide replies and recent search endpoints now available in the v2 #TwitterAPI. Details: https://t.co/r6z6CI7kEy'}, {'created_at': '2020-11-11T18:07:11.000Z', 'lang': 'en', 'id': '1326587289233862656', 'text': \"👀 We recently updated our product roadmap - continuing our commitment to build in the open. Check it our for the latest on what's ahead! Comment below to tell us what you are most excited about 👇 https://t.co/rspek8Ph9t\"}, {'created_at': '2020-11-10T23:45:28.000Z', 'lang': 'en', 'id': '1326310034230267904', 'text': 'The new lineup of Apple products comes with a handful of improvements, but there are still many ways to make reading Twitter threads better on Apple devices. Learn how you can build a thread reader app with the #TwitterAPI and iOS 14. https://t.co/aqMD1YQeoi'}, {'created_at': '2020-10-28T22:25:36.000Z', 'lang': 'en', 'id': '1321578893153722368', 'text': 'Google Sheets + Twitter API 🤝\\n\\nHere’s a custom formula that uses the Twitter API to import Tweets into your spreadsheet. A timesaver over copying and pasting.\\nhttps://t.co/tZdsezHJDv'}, {'created_at': '2020-10-28T15:43:26.000Z', 'lang': 'en', 'id': '1321477685781032965', 'text': 'RT @cairns: This is a space we’d hope to explore more with our developer ecosystem. \\n\\nIf you’re doing work in this area today and especiall…'}, {'created_at': '2020-10-22T17:35:18.000Z', 'lang': 'en', 'id': '1319331511179464704', 'text': 'Learn how to use the new operators that are part of the #TwitterAPI v2 to build search queries and filters to get the data you need.\\n\\nhttps://t.co/HiwoSGCArp'}, {'created_at': '2020-10-14T16:24:39.000Z', 'lang': 'en', 'id': '1316414628360933376', 'text': \"Find out what's happening - listen for important public events in real-time using the v2 filtered and sampled stream endpoints available in the new #TwitterAPI\\n\\nhttps://t.co/lDqyMM4eWg\"}, {'created_at': '2020-10-13T15:41:48.000Z', 'lang': 'en', 'id': '1316041457476620289', 'text': 'Brand new from @wordpressdotcom: You can now turn your entire blog post into a Twitter thread with just two extra clicks. This latest feature, built on the #TwitterAPI, allows content creators easily to amplify their reach and engagement https://t.co/EZ887eFDDm'}, {'created_at': '2020-10-12T18:25:43.000Z', 'lang': 'en', 'id': '1315720318124650496', 'text': 'As planned, the Labs v1 endpoints referenced below have now been retired. Please let us know in the forums if you have questions or need help with the Twitter API v2! https://t.co/bO7Y3HBk4P'}, {'created_at': '2020-10-09T18:39:48.000Z', 'lang': 'en', 'id': '1314636697842315265', 'text': 'If you liked this stream, you’re going to love what’s to come. Our next big release will make it easier &amp; more accessible to study the public conversation with features designed to better support academic research.\\n👀 HINT https://t.co/CCj7tfCnj6'}, {'created_at': '2020-10-09T18:39:47.000Z', 'lang': 'en', 'id': '1314636696646942720', 'text': 'If you plan to apply, here’s what others have done &amp; tips for the application 👇 \\nhttps://t.co/r2XXcAPjUq\\n\\nAs teams around the globe use this data to improve our understanding of &amp; response to the pandemic, we hope to feature their work here &amp; on https://t.co/6VyrlaC0li.'}, {'created_at': '2020-10-09T18:39:47.000Z', 'lang': 'en', 'id': '1314636695585783808', 'text': '👋 We want to let you know that the last day to apply for the COVID-19 stream is October 15 by 5pm PST. Qualified devs/researchers who wish to use this data for the public good are encouraged to apply. Access for approved developers will remain free and unchanged. https://t.co/acVQ1M0O9f'}, {'created_at': '2020-10-08T22:08:27.000Z', 'lang': 'en', 'id': '1314326820045516801', 'text': '⚡️💻 Learn how to use the #TwitterAPI to super charge your search for a remote developer job https://t.co/6SYyMzjKRQ'}, {'created_at': '2020-10-07T16:59:07.000Z', 'lang': 'en', 'id': '1313886587046952960', 'text': 'Track trends, global events and sentiment with the real-time sampled stream endpoint in the new #TwitterAPI\\n\\nLearn how to get started with this new tutorial 👀 https://t.co/JSkPMZ9L68'}, {'created_at': '2020-10-06T22:34:20.000Z', 'lang': 'en', 'id': '1313608555757355009', 'text': '👋 Friendly reminder that some Twitter Developer Labs v1 endpoints will be retired next Monday, October 12! Details: https://t.co/zZ4LIsd9yC'}, {'created_at': '2020-10-05T17:47:47.000Z', 'lang': 'en', 'id': '1313174055764160512', 'text': 'Learn how to analyze Twitter data in R https://t.co/0thzkxbXZp'}, {'created_at': '2020-09-30T16:47:38.000Z', 'lang': 'en', 'id': '1311346979243397121', 'text': '📊Learn how to get started with analyzing past conversations with the recent search endpoint in the new #TwitterAPI \\n\\nhttps://t.co/noOeqZKI3m'}, {'created_at': '2020-09-29T20:11:40.000Z', 'lang': 'en', 'id': '1311035937493864454', 'text': '🙂📈 Learn how to create a weekly sentiment score for your Tweets! Here’s how developer advocate @jessicagarson built a script using recent search, one of her favorite #TwitterAPI endpoints. https://t.co/E0R9gZ4Vry'}, {'created_at': '2020-09-24T18:57:37.000Z', 'lang': 'en', 'id': '1309205362776498176', 'text': 'Wondering how to process and store the Tweets you can get through the Twitter API?\\xa0🤔\\n\\nCheck out this tutorial to get started\\nhttps://t.co/teDQUnmtOf'}, {'created_at': '2020-09-22T17:27:08.000Z', 'lang': 'en', 'id': '1308457817259405313', 'text': 'RT @tonyv00: Want to learn how to stream Tweets in real-time with v2 of the Twitter API? Check out this tutorial I put together! https://t.…'}, {'created_at': '2020-09-18T18:36:15.000Z', 'lang': 'en', 'id': '1307025659294674945', 'text': 'Here’s an article that highlights the updates in the new Tweet payload v2 https://t.co/oeF3ZHeKQQ'}, {'created_at': '2020-09-16T21:25:48.000Z', 'lang': 'en', 'id': '1306343553853865985', 'text': \"RT @msdevUK: Microsoft MVP @jamie_maguire1 published an API using machine learning-based approaches that make it easy for @dotnet devs to '…\"}, {'created_at': '2020-09-16T18:01:02.000Z', 'lang': 'en', 'id': '1306292021250805760', 'text': '💡Do you have ideas for these endpoints beyond what we’ve shared? We’d love to hear from you! https://t.co/tOHI7oMjmp'}, {'created_at': '2020-09-16T18:01:02.000Z', 'lang': 'en', 'id': '1306292020315525120', 'text': '🚧🏗️ As we continue building the new #TwitterAPI in the open, we want to share our early stage thinking for how we’re redesigning the endpoints that allow you to Tweet, like, and Retweet. Learn more https://t.co/qJa1F6np6H'}, {'created_at': '2020-09-10T17:01:37.000Z', 'lang': 'en', 'id': '1304102743196356610', 'text': 'The new #TwitterAPI includes some improvements to the Tweet payload. You’re probably wondering — what are the main differences? 🧐\\n\\nIn this video, @SuhemParack compares the v1.1 Tweet payload with what you’ll find using our v2 endpoints. https://t.co/CjneyMpgCq'}, {'created_at': '2020-09-09T20:28:06.000Z', 'lang': 'en', 'id': '1303792318919528448', 'text': 'Learn how to build a Twitter skill for Alexa using the new Twitter API v2. Tomorrow, Sept 10th at 11 am PT/2 pm ET https://t.co/icPBz6Zgrn'}, {'created_at': '2020-09-08T18:54:48.000Z', 'lang': 'en', 'id': '1303406450757251072', 'text': 'RT @jessicagarson: Published another blog post on v2 of the Twitter API on @ThePracticalDev. This time on how to measure Tweet performance.…'}, {'created_at': '2020-09-03T17:31:39.000Z', 'lang': 'en', 'id': '1301573587187331074', 'text': 'Starting today, you can see your monthly Tweet usage for the v2 API in the developer portal. ✨📊\\n\\nThis tracks how many Tweets you’ve received from filtered stream and recent search. Learn more here: https://t.co/nfJHkFRQcZ https://t.co/vFXmoj3qaA'}, {'created_at': '2020-09-03T15:43:00.000Z', 'lang': 'en', 'id': '1301546240887398401', 'text': \"RT @snowman: So, we built a live golf leaderboard on the Twitter API with Python, Flask, Postgres, and Heroku.\\n\\nSend a 'leaderboard' Direct…\"}, {'created_at': '2020-09-01T20:07:50.000Z', 'lang': 'en', 'id': '1300888112948752389', 'text': '⛳ Why do golfers carry an extra shirt? In case they get a hole in one.\\n\\nNow that we have your attention, learn how @snowman and @johnd built a real-time golf leaderboard using the #TwitterAPI. 📖\\n\\nhttps://t.co/rRKeKmaRrN'}, {'created_at': '2020-08-28T23:14:22.000Z', 'lang': 'en', 'id': '1299485505478963200', 'text': 'RT @jessicagarson: Posted my first tutorial on @ThePracticalDev on using v2 of the Twitter API! You will learn how to explore a user’s Twee…'}], 'meta': {'oldest_id': '1299485505478963200', 'newest_id': '1374104599456534531', 'result_count': 100, 'next_token': '7140dibdnow9c7btw3t50t1oetebib9yd67xg1z8raqls'}}\n"
     ]
    }
   ],
   "source": [
    "response = make_request(headers)\n",
    "print(response)"
   ]
  },
  {
   "cell_type": "code",
   "execution_count": 10,
   "metadata": {},
   "outputs": [],
   "source": [
    "def make_df(response):\n",
    "    return pd.DataFrame(response[\"data\"])"
   ]
  },
  {
   "cell_type": "code",
   "execution_count": 11,
   "metadata": {},
   "outputs": [
    {
     "data": {
      "text/html": [
       "<div>\n",
       "<style scoped>\n",
       "    .dataframe tbody tr th:only-of-type {\n",
       "        vertical-align: middle;\n",
       "    }\n",
       "\n",
       "    .dataframe tbody tr th {\n",
       "        vertical-align: top;\n",
       "    }\n",
       "\n",
       "    .dataframe thead th {\n",
       "        text-align: right;\n",
       "    }\n",
       "</style>\n",
       "<table border=\"1\" class=\"dataframe\">\n",
       "  <thead>\n",
       "    <tr style=\"text-align: right;\">\n",
       "      <th></th>\n",
       "      <th>created_at</th>\n",
       "      <th>lang</th>\n",
       "      <th>id</th>\n",
       "      <th>text</th>\n",
       "    </tr>\n",
       "  </thead>\n",
       "  <tbody>\n",
       "    <tr>\n",
       "      <th>0</th>\n",
       "      <td>2021-03-22T21:04:00.000Z</td>\n",
       "      <td>en</td>\n",
       "      <td>1374104599456534531</td>\n",
       "      <td>Hope to see you tomorrow at 1 pm EST for APIs ...</td>\n",
       "    </tr>\n",
       "    <tr>\n",
       "      <th>1</th>\n",
       "      <td>2021-03-19T19:59:10.000Z</td>\n",
       "      <td>en</td>\n",
       "      <td>1373001119480344583</td>\n",
       "      <td>Looking to get started with the Twitter API bu...</td>\n",
       "    </tr>\n",
       "    <tr>\n",
       "      <th>2</th>\n",
       "      <td>2021-03-18T19:15:37.000Z</td>\n",
       "      <td>en</td>\n",
       "      <td>1372627771717869568</td>\n",
       "      <td>Thanks to everyone who joined and made today a...</td>\n",
       "    </tr>\n",
       "    <tr>\n",
       "      <th>3</th>\n",
       "      <td>2021-03-18T19:07:02.000Z</td>\n",
       "      <td>en</td>\n",
       "      <td>1372625612460810242</td>\n",
       "      <td>@geet_qcp @suhemparack Hey! We have good news,...</td>\n",
       "    </tr>\n",
       "    <tr>\n",
       "      <th>4</th>\n",
       "      <td>2021-03-18T16:50:09.000Z</td>\n",
       "      <td>en</td>\n",
       "      <td>1372591165006999556</td>\n",
       "      <td>We're going to get started in just a few minut...</td>\n",
       "    </tr>\n",
       "    <tr>\n",
       "      <th>...</th>\n",
       "      <td>...</td>\n",
       "      <td>...</td>\n",
       "      <td>...</td>\n",
       "      <td>...</td>\n",
       "    </tr>\n",
       "    <tr>\n",
       "      <th>95</th>\n",
       "      <td>2020-09-08T18:54:48.000Z</td>\n",
       "      <td>en</td>\n",
       "      <td>1303406450757251072</td>\n",
       "      <td>RT @jessicagarson: Published another blog post...</td>\n",
       "    </tr>\n",
       "    <tr>\n",
       "      <th>96</th>\n",
       "      <td>2020-09-03T17:31:39.000Z</td>\n",
       "      <td>en</td>\n",
       "      <td>1301573587187331074</td>\n",
       "      <td>Starting today, you can see your monthly Tweet...</td>\n",
       "    </tr>\n",
       "    <tr>\n",
       "      <th>97</th>\n",
       "      <td>2020-09-03T15:43:00.000Z</td>\n",
       "      <td>en</td>\n",
       "      <td>1301546240887398401</td>\n",
       "      <td>RT @snowman: So, we built a live golf leaderbo...</td>\n",
       "    </tr>\n",
       "    <tr>\n",
       "      <th>98</th>\n",
       "      <td>2020-09-01T20:07:50.000Z</td>\n",
       "      <td>en</td>\n",
       "      <td>1300888112948752389</td>\n",
       "      <td>⛳ Why do golfers carry an extra shirt? In case...</td>\n",
       "    </tr>\n",
       "    <tr>\n",
       "      <th>99</th>\n",
       "      <td>2020-08-28T23:14:22.000Z</td>\n",
       "      <td>en</td>\n",
       "      <td>1299485505478963200</td>\n",
       "      <td>RT @jessicagarson: Posted my first tutorial on...</td>\n",
       "    </tr>\n",
       "  </tbody>\n",
       "</table>\n",
       "<p>100 rows × 4 columns</p>\n",
       "</div>"
      ],
      "text/plain": [
       "                  created_at lang                   id  \\\n",
       "0   2021-03-22T21:04:00.000Z   en  1374104599456534531   \n",
       "1   2021-03-19T19:59:10.000Z   en  1373001119480344583   \n",
       "2   2021-03-18T19:15:37.000Z   en  1372627771717869568   \n",
       "3   2021-03-18T19:07:02.000Z   en  1372625612460810242   \n",
       "4   2021-03-18T16:50:09.000Z   en  1372591165006999556   \n",
       "..                       ...  ...                  ...   \n",
       "95  2020-09-08T18:54:48.000Z   en  1303406450757251072   \n",
       "96  2020-09-03T17:31:39.000Z   en  1301573587187331074   \n",
       "97  2020-09-03T15:43:00.000Z   en  1301546240887398401   \n",
       "98  2020-09-01T20:07:50.000Z   en  1300888112948752389   \n",
       "99  2020-08-28T23:14:22.000Z   en  1299485505478963200   \n",
       "\n",
       "                                                 text  \n",
       "0   Hope to see you tomorrow at 1 pm EST for APIs ...  \n",
       "1   Looking to get started with the Twitter API bu...  \n",
       "2   Thanks to everyone who joined and made today a...  \n",
       "3   @geet_qcp @suhemparack Hey! We have good news,...  \n",
       "4   We're going to get started in just a few minut...  \n",
       "..                                                ...  \n",
       "95  RT @jessicagarson: Published another blog post...  \n",
       "96  Starting today, you can see your monthly Tweet...  \n",
       "97  RT @snowman: So, we built a live golf leaderbo...  \n",
       "98  ⛳ Why do golfers carry an extra shirt? In case...  \n",
       "99  RT @jessicagarson: Posted my first tutorial on...  \n",
       "\n",
       "[100 rows x 4 columns]"
      ]
     },
     "execution_count": 11,
     "metadata": {},
     "output_type": "execute_result"
    }
   ],
   "source": [
    "df = make_df(response)\n",
    "df"
   ]
  },
  {
   "cell_type": "code",
   "execution_count": 12,
   "metadata": {},
   "outputs": [],
   "source": [
    "def authenticate_to_google():\n",
    "    scope = [\n",
    "        \"https://spreadsheets.google.com/feeds\"\n",
    "    ]\n",
    "    credentials = ServiceAccountCredentials.from_json_keyfile_name(\n",
    "        \"Downloads/cred_new.json\", scope\n",
    "    )\n",
    "    return credentials"
   ]
  },
  {
   "cell_type": "code",
   "execution_count": 13,
   "metadata": {},
   "outputs": [
    {
     "data": {
      "text/plain": [
       "{'spreadsheetId': '1xxuZ3hhcqCOqYmJaMckZ3mvBOkBzjNZYjBiMpIzg9Ug',\n",
       " 'updatedRange': 'Testing!A1:D101',\n",
       " 'updatedRows': 101,\n",
       " 'updatedColumns': 4,\n",
       " 'updatedCells': 404}"
      ]
     },
     "execution_count": 13,
     "metadata": {},
     "output_type": "execute_result"
    }
   ],
   "source": [
    "credentials = authenticate_to_google()\n",
    "gc = gspread.authorize(credentials)\n",
    "workbook = gc.open_by_key(\"1xxuZ3hhcqCOqYmJaMckZ3mvBOkBzjNZYjBiMpIzg9Ug\")\n",
    "sheet = workbook.worksheet(\"Testing\")\n",
    "sheet.update(\"A1\", [df.columns.values.tolist()] + df.values.tolist())"
   ]
  },
  {
   "cell_type": "code",
   "execution_count": null,
   "metadata": {},
   "outputs": [],
   "source": []
  }
 ],
 "metadata": {
  "kernelspec": {
   "display_name": "Python 3",
   "language": "python",
   "name": "python3"
  },
  "language_info": {
   "codemirror_mode": {
    "name": "ipython",
    "version": 3
   },
   "file_extension": ".py",
   "mimetype": "text/x-python",
   "name": "python",
   "nbconvert_exporter": "python",
   "pygments_lexer": "ipython3",
   "version": "3.8.3"
  }
 },
 "nbformat": 4,
 "nbformat_minor": 4
}
